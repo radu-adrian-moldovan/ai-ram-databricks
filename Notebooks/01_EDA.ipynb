{
 "cells": [
  {
   "cell_type": "code",
   "execution_count": 0,
   "metadata": {
    "application/vnd.databricks.v1+cell": {
     "cellMetadata": {
      "byteLimit": 2048000,
      "rowLimit": 10000
     },
     "inputWidgets": {},
     "nuid": "1cecd375-6ae3-4cbe-be96-04b8383e515e",
     "showTitle": false,
     "tableResultSettingsMap": {},
     "title": ""
    }
   },
   "outputs": [],
   "source": [
    "from pyspark.sql import functions as F\n",
    "\n",
    "table_names = [\n",
    "    \"sales_customers\",\n",
    "    \"sales_franchises\",\n",
    "    \"sales_suppliers\",\n",
    "    \"sales_transactions\",\n",
    "    \"media_customer_reviews\",\n",
    "    \"media_gold_reviews_chunked\"\n",
    "]\n"
   ]
  },
  {
   "cell_type": "code",
   "execution_count": 0,
   "metadata": {
    "application/vnd.databricks.v1+cell": {
     "cellMetadata": {
      "byteLimit": 2048000,
      "rowLimit": 10000
     },
     "inputWidgets": {},
     "nuid": "2133300c-374b-4b4e-94fe-ee7ea377b0f2",
     "showTitle": false,
     "tableResultSettingsMap": {},
     "title": ""
    }
   },
   "outputs": [],
   "source": [
    "def perform_eda_on_table(db_name, table_name):\n",
    "    \"\"\"\n",
    "    Perform EDA on a given table:\n",
    "      1. Print the table's storage location (using DESCRIBE DETAIL)\n",
    "      2. Load the table into a DataFrame\n",
    "      3. Show the schema and first 5 rows\n",
    "      4. Print out basic summary statistics\n",
    "      5. Count nulls per column\n",
    "      6. Check for duplicates (by comparing total vs distinct row count)\n",
    "    \"\"\"\n",
    "    full_table_name = f\"{db_name}.{table_name}\"\n",
    "    print(f\"\\n========== EDA for {full_table_name} ==========\")\n",
    "    \n",
    "    # 1. \n",
    "    print(\"Table Detail (Storage Location):\")\n",
    "    try:\n",
    "        detail_df = spark.sql(f\"DESCRIBE DETAIL {full_table_name}\")\n",
    "        detail_df.select(\"location\").show(truncate=False)\n",
    "    except Exception as e:\n",
    "        print(f\"Error getting table details for {full_table_name}: {e}\")\n",
    "    \n",
    "    # 2.\n",
    "    try:\n",
    "        df = spark.table(full_table_name)\n",
    "    except Exception as e:\n",
    "        print(f\"Error loading table {full_table_name}: {e}\")\n",
    "        return\n",
    "    \n",
    "    # 3.\n",
    "    print(\"Schema:\")\n",
    "    df.printSchema()\n",
    "    \n",
    "    print(\"Sample Rows:\")\n",
    "    df.show(5, truncate=False)\n",
    "    \n",
    "    # 4.\n",
    "    print(\"Basic Summary Statistics:\")\n",
    "    try:\n",
    "        df.describe().show()\n",
    "    except Exception as e:\n",
    "        print(f\"Error running describe() on {full_table_name}: {e}\")\n",
    "    \n",
    "    # 5.\n",
    "    print(\"Null Count per Column:\")\n",
    "    null_counts = df.select([F.count(F.when(F.col(c).isNull(), c)).alias(c) for c in df.columns])\n",
    "    null_counts.show()\n",
    "    \n",
    "    # 6.\n",
    "    total_count = df.count()\n",
    "    distinct_count = df.distinct().count()\n",
    "    print(f\"Total Count: {total_count}, Distinct Count: {distinct_count}\")\n",
    "    if total_count != distinct_count:\n",
    "        print(\"WARNING: Duplicates found!\")\n",
    "    else:\n",
    "        print(\"No duplicates detected.\")\n",
    "\n",
    "db_name = \"samples.bakehouse\"\n"
   ]
  },
  {
   "cell_type": "code",
   "execution_count": 0,
   "metadata": {
    "application/vnd.databricks.v1+cell": {
     "cellMetadata": {
      "byteLimit": 2048000,
      "rowLimit": 10000
     },
     "inputWidgets": {},
     "nuid": "6daeff0a-73f7-42fc-ad76-da0f72ee24fe",
     "showTitle": false,
     "tableResultSettingsMap": {},
     "title": ""
    }
   },
   "outputs": [],
   "source": [
    "for t in table_names:\n",
    "    perform_eda_on_table(db_name, t)"
   ]
  }
 ],
 "metadata": {
  "application/vnd.databricks.v1+notebook": {
   "computePreferences": null,
   "dashboards": [],
   "environmentMetadata": {
    "base_environment": "",
    "environment_version": "2"
   },
   "language": "python",
   "notebookMetadata": {
    "pythonIndentUnit": 4
   },
   "notebookName": "01_EDA",
   "widgets": {}
  },
  "language_info": {
   "name": "python"
  }
 },
 "nbformat": 4,
 "nbformat_minor": 0
}
