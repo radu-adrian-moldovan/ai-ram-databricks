{
 "cells": [
  {
   "cell_type": "code",
   "execution_count": 0,
   "metadata": {
    "application/vnd.databricks.v1+cell": {
     "cellMetadata": {
      "byteLimit": 2048000,
      "rowLimit": 10000
     },
     "inputWidgets": {},
     "nuid": "83924326-6bfc-4bc5-8c10-79abd34632e2",
     "showTitle": false,
     "tableResultSettingsMap": {},
     "title": ""
    }
   },
   "outputs": [],
   "source": [
    "from pyspark.sql import functions as F"
   ]
  },
  {
   "cell_type": "code",
   "execution_count": 0,
   "metadata": {
    "application/vnd.databricks.v1+cell": {
     "cellMetadata": {
      "byteLimit": 2048000,
      "rowLimit": 10000
     },
     "inputWidgets": {},
     "nuid": "af72a95e-cd84-406a-9d6a-d8e67ee7e1cd",
     "showTitle": false,
     "tableResultSettingsMap": {},
     "title": ""
    }
   },
   "outputs": [],
   "source": [
    "# 1. Process sales_customers\n",
    "\n",
    "df_customers = spark.table(\"samples.bakehouse.sales_customers\")\n",
    "\n",
    "df_customers_staging = (\n",
    "    df_customers\n",
    "    .dropDuplicates([\"customerID\"])\n",
    "    .withColumn(\"phone_number\", F.regexp_replace(\"phone_number\", \"[^0-9]\", \"\"))\n",
    "    .withColumn(\"email_address\", F.lower(F.col(\"email_address\")))\n",
    "    .withColumn(\"load_date\", F.current_timestamp())\n",
    ")\n",
    "df_customers_staging.write.format(\"delta\").mode(\"overwrite\").save(\"/mnt/staging/sales_customers\")"
   ]
  },
  {
   "cell_type": "code",
   "execution_count": 0,
   "metadata": {
    "application/vnd.databricks.v1+cell": {
     "cellMetadata": {
      "byteLimit": 2048000,
      "rowLimit": 10000
     },
     "inputWidgets": {},
     "nuid": "d7ef0ed4-ea6f-4868-842b-416ac5a855af",
     "showTitle": false,
     "tableResultSettingsMap": {},
     "title": ""
    }
   },
   "outputs": [],
   "source": [
    "# 2. Process sales_franchises\n",
    "df_franchises = spark.table(\"samples.bakehouse.sales_franchises\")\n",
    "\n",
    "df_franchises_staging = df_franchises.withColumn(\"load_date\", F.current_timestamp())\n",
    "\n",
    "df_franchises_staging.write.format(\"delta\").mode(\"overwrite\").save(\"/mnt/staging/sales_franchises\")"
   ]
  },
  {
   "cell_type": "code",
   "execution_count": 0,
   "metadata": {
    "application/vnd.databricks.v1+cell": {
     "cellMetadata": {
      "byteLimit": 2048000,
      "rowLimit": 10000
     },
     "inputWidgets": {},
     "nuid": "dc781a29-21a1-42c3-a8ef-b981594158e3",
     "showTitle": false,
     "tableResultSettingsMap": {},
     "title": ""
    }
   },
   "outputs": [],
   "source": [
    "# 3. Process sales_suppliers\n",
    "df_suppliers = spark.table(\"samples.bakehouse.sales_suppliers\")\n",
    "\n",
    "df_suppliers_staging = (\n",
    "    df_suppliers\n",
    "    .withColumn(\"alergy\", \n",
    "                F.when(\n",
    "                    F.lower(F.col(\"ingredient\")).rlike(\"pistachios|peanuts|poppy seeds\"), \"Y\"\n",
    "                ).otherwise(\"N\")\n",
    "               )\n",
    "    .withColumn(\"load_date\", F.current_timestamp())\n",
    ")\n",
    "\n",
    "df_suppliers_staging.write.format(\"delta\").mode(\"overwrite\").save(\"/mnt/staging/sales_suppliers\")"
   ]
  },
  {
   "cell_type": "code",
   "execution_count": 0,
   "metadata": {
    "application/vnd.databricks.v1+cell": {
     "cellMetadata": {
      "byteLimit": 2048000,
      "rowLimit": 10000
     },
     "inputWidgets": {},
     "nuid": "42d2ffc1-f211-4447-8419-e0e238b90d85",
     "showTitle": false,
     "tableResultSettingsMap": {},
     "title": ""
    }
   },
   "outputs": [],
   "source": [
    "# 4. Process sales_transactions\n",
    "df_transactions = spark.table(\"samples.bakehouse.sales_transactions\")\n",
    "\n",
    "df_transactions_staging = df_transactions.withColumn(\"load_date\", F.current_timestamp())\n",
    "\n",
    "df_transactions_staging.write.format(\"delta\").mode(\"overwrite\").save(\"/mnt/staging/sales_transactions\")"
   ]
  },
  {
   "cell_type": "code",
   "execution_count": 0,
   "metadata": {
    "application/vnd.databricks.v1+cell": {
     "cellMetadata": {
      "byteLimit": 2048000,
      "rowLimit": 10000
     },
     "inputWidgets": {},
     "nuid": "ef135c99-8c84-4528-aace-c270ff84e009",
     "showTitle": false,
     "tableResultSettingsMap": {},
     "title": ""
    }
   },
   "outputs": [],
   "source": [
    "# 5. Process media_customer_reviews\n",
    "df_reviews = spark.table(\"samples.bakehouse.media_customer_reviews\")\n",
    "\n",
    "df_reviews_staging = df_reviews.withColumn(\"load_date\", F.current_timestamp())\n",
    "\n",
    "df_reviews_staging.write.format(\"delta\").mode(\"overwrite\").save(\"/mnt/staging/media_customer_reviews\")"
   ]
  },
  {
   "cell_type": "code",
   "execution_count": 0,
   "metadata": {
    "application/vnd.databricks.v1+cell": {
     "cellMetadata": {
      "byteLimit": 2048000,
      "rowLimit": 10000
     },
     "inputWidgets": {},
     "nuid": "cc99a467-b840-4c0e-8610-144dae063a30",
     "showTitle": false,
     "tableResultSettingsMap": {},
     "title": ""
    }
   },
   "outputs": [],
   "source": [
    "# 6. Process media_gold_reviews_chunked\n",
    "df_gold_reviews = spark.table(\"samples.bakehouse.media_gold_reviews_chunked\")\n",
    "\n",
    "df_gold_reviews_staging = df_gold_reviews.withColumn(\"load_date\", F.current_timestamp())\n",
    "\n",
    "df_gold_reviews_staging.write.format(\"delta\").mode(\"overwrite\").save(\"/mnt/staging/media_gold_reviews_chunked\")"
   ]
  }
 ],
 "metadata": {
  "application/vnd.databricks.v1+notebook": {
   "computePreferences": null,
   "dashboards": [],
   "environmentMetadata": {
    "base_environment": "",
    "environment_version": "2"
   },
   "language": "python",
   "notebookMetadata": {
    "pythonIndentUnit": 4
   },
   "notebookName": "02_Staging",
   "widgets": {}
  },
  "language_info": {
   "name": "python"
  }
 },
 "nbformat": 4,
 "nbformat_minor": 0
}
