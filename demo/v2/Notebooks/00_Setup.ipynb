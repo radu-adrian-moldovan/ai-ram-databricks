{
 "cells": [
  {
   "cell_type": "code",
   "execution_count": 0,
   "metadata": {
    "application/vnd.databricks.v1+cell": {
     "cellMetadata": {
      "byteLimit": 2048000,
      "rowLimit": 10000
     },
     "inputWidgets": {},
     "nuid": "3abbacb5-d52d-457b-93cd-020de9609be1",
     "showTitle": false,
     "tableResultSettingsMap": {},
     "title": ""
    }
   },
   "outputs": [],
   "source": [
    "from databricks.sdk import WorkspaceClient\n",
    "\n",
    "w = WorkspaceClient()\n",
    "\n",
    "# secret key for database connection\n",
    "# w.secrets.create_scope(scope=\"demo_secrets\")\n",
    "# w.secrets.put_secret( scope=\"demo_secrets\",key=\"server-hostname\",string_value=\"\")\n",
    "# w.secrets.put_secret (scope=\"demo_secrets\",key=\"http-path\",string_value=\"\")\n",
    "# w.secrets.put_secret(scope=\"demo_secrets\",    key=\"databricks-token\",string_value=\"\")\n",
    "secrets = w.secrets.list_secrets(scope=\"demo_secrets\")\n",
    "for secret in secrets:\n",
    "    value = dbutils.secrets.get(\n",
    "        scope=\"demo_secrets\",\n",
    "        key=secret.key\n",
    "    )\n",
    "    print(f\"Key: {secret.key}, First 10 chars: {value[:10]}\")"
   ]
  },
  {
   "cell_type": "code",
   "execution_count": 0,
   "metadata": {
    "application/vnd.databricks.v1+cell": {
     "cellMetadata": {
      "byteLimit": 2048000,
      "implicitDf": true,
      "rowLimit": 10000
     },
     "inputWidgets": {},
     "nuid": "d333dc88-b53a-43fd-92b3-bb811df2cc3c",
     "showTitle": false,
     "tableResultSettingsMap": {},
     "title": ""
    }
   },
   "outputs": [],
   "source": [
    "%sql\n",
    "CREATE CATALOG IF NOT EXISTS jp_assessment;"
   ]
  },
  {
   "cell_type": "code",
   "execution_count": 0,
   "metadata": {
    "application/vnd.databricks.v1+cell": {
     "cellMetadata": {
      "byteLimit": 2048000,
      "implicitDf": true,
      "rowLimit": 10000
     },
     "inputWidgets": {},
     "nuid": "d4ea6017-c454-4b48-980a-87cfdbdf428f",
     "showTitle": false,
     "tableResultSettingsMap": {},
     "title": ""
    }
   },
   "outputs": [],
   "source": [
    "%sql\n",
    "CREATE SCHEMA IF NOT EXISTS jp_assessment.latam_lab_silver;\n",
    "CREATE SCHEMA IF NOT EXISTS jp_assessment.latam_lab_gold;\n",
    "CREATE SCHEMA IF NOT EXISTS jp_assessment.latam_lab_landing_zone;\n",
    "\n"
   ]
  },
  {
   "cell_type": "code",
   "execution_count": 0,
   "metadata": {
    "application/vnd.databricks.v1+cell": {
     "cellMetadata": {
      "byteLimit": 2048000,
      "rowLimit": 10000
     },
     "inputWidgets": {},
     "nuid": "5b2a6d0a-92ed-41fd-9ce9-a831c0eff275",
     "showTitle": false,
     "tableResultSettingsMap": {},
     "title": ""
    }
   },
   "outputs": [],
   "source": [
    "from databricks.sdk import WorkspaceClient\n",
    "from databricks.sdk.service.pipelines import FileLibrary\n",
    "import json\n",
    "\n",
    "def flatten_config(config):\n",
    "    return {k: str(v) for k, v in config.items()}\n",
    "\n",
    "with open(\n",
    "    \"/Workspace/Repos/ram/ai-ram-databricks/dlt_pipeline/gold_pipeline_settings.json\",\n",
    "    \"r\"\n",
    ") as f:\n",
    "    pipeline_settings = json.load(f)\n",
    "\n",
    "w = WorkspaceClient()\n",
    "\n",
    "pipeline = w.pipelines.create(\n",
    "    name=\"gold-lakeflow-pipeline\",\n",
    "    development=True,\n",
    "    libraries=[\n",
    "        FileLibrary(\n",
    "            path=\"/Workspace/Repos/ram/ai-ram-databricks/......./gold_pipelines.py\"\n",
    "        )\n",
    "    ],\n",
    "    configuration=flatten_config(pipeline_settings)\n",
    ")\n",
    "\n",
    "print(f\"Pipeline created with ID: {pipeline.pipeline_id}\")"
   ]
  },
  {
   "cell_type": "code",
   "execution_count": 0,
   "metadata": {
    "application/vnd.databricks.v1+cell": {
     "cellMetadata": {
      "byteLimit": 2048000,
      "rowLimit": 10000
     },
     "inputWidgets": {},
     "nuid": "69d00e1b-b3ae-47fe-bf63-fc231cc00c47",
     "showTitle": false,
     "tableResultSettingsMap": {},
     "title": ""
    }
   },
   "outputs": [],
   "source": [
    "%pip install databricks-sql-connector\n",
    "dbutils.library.restartPython()\n",
    "\n"
   ]
  },
  {
   "cell_type": "code",
   "execution_count": 0,
   "metadata": {
    "application/vnd.databricks.v1+cell": {
     "cellMetadata": {
      "byteLimit": 2048000,
      "rowLimit": 10000
     },
     "inputWidgets": {},
     "nuid": "6585dfcd-9328-466f-a46a-d92b00405460",
     "showTitle": false,
     "tableResultSettingsMap": {},
     "title": ""
    }
   },
   "outputs": [],
   "source": [
    "from databricks import sql\n",
    "\n",
    "connection = sql.connect(\n",
    "    server_hostname=dbutils.secrets.get(\n",
    "        scope=\"demo_secrets\",\n",
    "        key=\"server-hostname\"\n",
    "    ),\n",
    "    http_path=dbutils.secrets.get(\n",
    "        scope=\"demo_secrets\",\n",
    "        key=\"http-path\"\n",
    "    ),\n",
    "    access_token=dbutils.secrets.get(\n",
    "        scope=\"demo_secrets\",\n",
    "        key=\"databricks-token\"\n",
    "    )\n",
    ")\n",
    "\n",
    "cursor = connection.cursor()\n",
    "\n",
    "# Get all schemas\n",
    "cursor.execute(\"SELECT schema_name FROM information_schema.schemata\")\n",
    "schemas = [row[0] for row in cursor.fetchall()]\n",
    "\n",
    "# Get all tables with their schemas\n",
    "cursor.execute(\n",
    "    \"SELECT table_schema, table_name FROM information_schema.tables\"\n",
    ")\n",
    "tables = cursor.fetchall()\n",
    "\n",
    "# Organize tables under their schemas\n",
    "schema_tables = {schema: [] for schema in schemas}\n",
    "for schema, table in tables:\n",
    "    if schema in schema_tables:\n",
    "        schema_tables[schema].append(table)\n",
    "\n",
    "# Print in tree-like fashion\n",
    "for schema, tables in schema_tables.items():\n",
    "    print(f\"{schema}/\")\n",
    "    for table in tables:\n",
    "        print(f\"  └─ {table}\")\n",
    "\n",
    "cursor.close()\n",
    "connection.close()"
   ]
  },
  {
   "cell_type": "code",
   "execution_count": 0,
   "metadata": {
    "application/vnd.databricks.v1+cell": {
     "cellMetadata": {
      "byteLimit": 2048000,
      "rowLimit": 10000
     },
     "inputWidgets": {},
     "nuid": "24e0296d-c5f2-4b84-af8d-832bf1f5f4ac",
     "showTitle": false,
     "tableResultSettingsMap": {},
     "title": ""
    }
   },
   "outputs": [],
   "source": [
    "from databricks import sql\n",
    "\n",
    "connection = sql.connect(\n",
    "    server_hostname=dbutils.secrets.get(\n",
    "        scope=\"demo_secrets\",\n",
    "        key=\"server-hostname\"\n",
    "    ),\n",
    "    http_path=dbutils.secrets.get(\n",
    "        scope=\"demo_secrets\",\n",
    "        key=\"http-path\"\n",
    "    ),\n",
    "    access_token=dbutils.secrets.get(\n",
    "        scope=\"demo_secrets\",\n",
    "        key=\"databricks-token\"\n",
    "    )\n",
    ")\n",
    "\n",
    "cursor = connection.cursor()\n",
    "\n",
    "cursor.execute(\"CREATE SCHEMA IF NOT EXISTS demo\")\n",
    "cursor.execute(\"\"\"\n",
    "    CREATE TABLE IF NOT EXISTS demo.demo_table (\n",
    "        id INT,\n",
    "        name STRING\n",
    "    )\n",
    "\"\"\")\n",
    "cursor.execute(\"\"\"\n",
    "    INSERT INTO demo.demo_table\n",
    "      VALUES (1, 'Alice'), (2, 'Bob'), (3, 'Carol')\n",
    "\"\"\")\n",
    "\n",
    "cursor.execute(\"SELECT * FROM demo.demo_table\")\n",
    "rows = cursor.fetchall()\n",
    "\n",
    "print(\"Rows in demo.demo_table:\")\n",
    "for row in rows:\n",
    "    print(row)\n",
    "\n",
    "cursor.close()\n",
    "connection.close()"
   ]
  }
 ],
 "metadata": {
  "application/vnd.databricks.v1+notebook": {
   "computePreferences": {
    "hardware": {
     "accelerator": null,
     "gpuPoolId": null,
     "memory": null
    }
   },
   "dashboards": [],
   "environmentMetadata": {
    "base_environment": "",
    "environment_version": "2"
   },
   "inputWidgetPreferences": null,
   "language": "python",
   "notebookMetadata": {
    "mostRecentlyExecutedCommandWithImplicitDF": {
     "commandId": 6417025611976380,
     "dataframes": [
      "_sqldf"
     ]
    },
    "pythonIndentUnit": 4
   },
   "notebookName": "00_Setup",
   "widgets": {}
  },
  "language_info": {
   "name": "python"
  }
 },
 "nbformat": 4,
 "nbformat_minor": 0
}
